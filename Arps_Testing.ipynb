{
 "cells": [
  {
   "cell_type": "code",
   "execution_count": 1,
   "metadata": {},
   "outputs": [],
   "source": [
    "import pandas\n",
    "import numpy as np\n",
    "import matplotlib.pyplot as plt\n",
    "from scipy import optimize\n",
    "import mpmath as mp"
   ]
  },
  {
   "cell_type": "code",
   "execution_count": 2,
   "metadata": {
    "scrolled": true
   },
   "outputs": [
    {
     "name": "stdout",
     "output_type": "stream",
     "text": [
      "Total number of wells are: 153\n"
     ]
    }
   ],
   "source": [
    "#Extract api#, monthly_oil and date from Drillinginfo File\n",
    "df = pandas.read_csv('Monthly_Production.CSV')\n",
    "oil = np.array(df['Monthly Oil'].values)\n",
    "api_well = np.array(df['API/UWI'].values)\n",
    "pro_month = np.array(df['Monthly Production Date'].values)\n",
    "unique_ids=len(np.unique(api_well))\n",
    "print('Total number of wells are: {}'.format (unique_ids)) # Confirming all 153 wells are read into memory"
   ]
  },
  {
   "cell_type": "code",
   "execution_count": 3,
   "metadata": {},
   "outputs": [],
   "source": [
    "ID_0 = api_well[0]\n",
    "i=0\n",
    "j=0\n",
    "k=0\n",
    "oil_array=np.zeros((unique_ids,36),dtype=int)\n",
    "for ID in api_well:\n",
    "    if ID==ID_0:\n",
    "        oil_array[i,j]=oil[k]\n",
    "        j=j+1\n",
    "    else:\n",
    "        ID_0=ID\n",
    "        i=i+1\n",
    "        j=0\n",
    "    k=k+1 "
   ]
  },
  {
   "cell_type": "code",
   "execution_count": 4,
   "metadata": {},
   "outputs": [],
   "source": [
    "def Arps(t,Di,logQi,b):\n",
    "    Qt = logQi - 1/b*np.log10(1+b*Di*t)\n",
    "    return Qt"
   ]
  },
  {
   "cell_type": "code",
   "execution_count": 5,
   "metadata": {},
   "outputs": [],
   "source": [
    "def post(Di,logQi,b,sigma,t,data):\n",
    "    like = np.prod(np.exp(-np.power(Arps(t,Di,logQi,b)-data, 2)/sigma**2))\n",
    "    return like # because constant uniform prior"
   ]
  },
  {
   "cell_type": "code",
   "execution_count": 6,
   "metadata": {},
   "outputs": [
    {
     "name": "stdout",
     "output_type": "stream",
     "text": [
      "iteration 0\n"
     ]
    },
    {
     "name": "stderr",
     "output_type": "stream",
     "text": [
      "C:\\Users\\peace\\Anaconda3\\lib\\site-packages\\ipykernel_launcher.py:40: RuntimeWarning: divide by zero encountered in double_scalars\n"
     ]
    },
    {
     "name": "stdout",
     "output_type": "stream",
     "text": [
      "Sampling finished at iteration 10000\n",
      "iteration 0\n"
     ]
    },
    {
     "name": "stderr",
     "output_type": "stream",
     "text": [
      "C:\\Users\\peace\\Anaconda3\\lib\\site-packages\\ipykernel_launcher.py:40: RuntimeWarning: invalid value encountered in double_scalars\n"
     ]
    },
    {
     "name": "stdout",
     "output_type": "stream",
     "text": [
      "Sampling finished at iteration 10000\n",
      "iteration 0\n",
      "Sampling finished at iteration 10000\n",
      "iteration 0\n",
      "Sampling finished at iteration 10000\n",
      "iteration 0\n",
      "Sampling finished at iteration 10000\n",
      "iteration 0\n",
      "Sampling finished at iteration 10000\n",
      "iteration 0\n",
      "Sampling finished at iteration 10000\n",
      "iteration 0\n",
      "Sampling finished at iteration 10000\n",
      "iteration 0\n",
      "Sampling finished at iteration 10000\n"
     ]
    }
   ],
   "source": [
    "tt_test = np.linspace(1,24,24)\n",
    "selected_wells=np.array([7,8,9,10,11,12,13,14,16])\n",
    "#selected_wells=np.linspace(0,149,150,dtype=int)\n",
    "\n",
    "plot_no=0\n",
    "grid_sz=np.sqrt(len(selected_wells))\n",
    "qq_p10=np.zeros([len(selected_wells),24])\n",
    "qq_p90=np.zeros([len(selected_wells),24])\n",
    "\n",
    "for well_no in selected_wells:\n",
    "    cur = oil_array[selected_wells[plot_no]]\n",
    "    rec_month = np.count_nonzero(cur)\n",
    "    data = np.log10(cur[0:12])\n",
    "\n",
    "    Di = 0.5\n",
    "    logQi = 4\n",
    "    b = 0.5\n",
    "    t=np.arange(0,12)\n",
    "    logQi = data[0]\n",
    "    Niter = 10000\n",
    "    chain = np.zeros((Niter,3))\n",
    "    chain[0,0] = Di # Initialize the chain with first guess\n",
    "    chain[0,1] = logQi\n",
    "    chain[0,2] = b\n",
    "\n",
    "    sigma=0.05\n",
    "\n",
    "    for ii in np.arange(Niter-1):\n",
    "        if ii%50000 ==0:\n",
    "            print('iteration {}'.format(ii))\n",
    "        Di    = chain[ii,0] \n",
    "        logQi = chain[ii,1] \n",
    "        b     = chain[ii,2] \n",
    "        Di_p    = Di + np.random.normal(loc=0.0,scale=0.1,size=1)\n",
    "        logQi_p = logQi + np.random.normal(loc=0.0,scale=0.1,size=1)\n",
    "        b_p     = b + np.random.normal(loc=0.0,scale=0.1,size=1)\n",
    "\n",
    "        if Di_p < 0.1 or Di_p>50 or b_p<0 or b_p>=2 or logQi > 1000000 or logQi<0.01:\n",
    "            chain[ii+1,:] = chain[ii,:]\n",
    "        elif (post(Di_p,logQi_p,b_p,sigma,t,data) / post(Di,logQi,b,sigma,t,data)) > np.random.uniform():\n",
    "            chain[ii+1,0] = Di_p \n",
    "            chain[ii+1,1] = logQi_p \n",
    "            chain[ii+1,2] = b_p \n",
    "        else:\n",
    "            chain[ii+1,:] = chain[ii,:]\n",
    "    print('Sampling finished at iteration {}'.format(Niter));\n",
    "\n",
    "    chain = chain[1000:]#burnin\n",
    "\n",
    "    a_Di=round(np.mean(chain[:,0]),3)\n",
    "    a_logQi=round(np.mean(chain[:,1]),3)\n",
    "    a_b=round(np.mean(chain[:,2]),3)\n",
    "\n",
    "    y_arps =  Arps(t,a_Di,a_logQi,a_b)\n",
    "    y_arps_test =  Arps(tt_test,a_Di,a_logQi,a_b)\n",
    "\n",
    "    #Testing\n",
    "    plt.rcParams['figure.figsize'] = (8, 4)\n",
    "    chains_to_plot=np.arange(1000)*9\n",
    "    kk=0\n",
    "    qq=np.zeros([len(chains_to_plot),24])\n",
    "    for ii in chains_to_plot:\n",
    "        qq[kk,:]=Arps(tt_test,chain[ii,0],chain[ii,1],chain[ii,2])\n",
    "        kk+=1\n",
    "\n",
    "    for tt in np.arange(0,24):\n",
    "        sorted_qq=np.sort(qq[:,tt])\n",
    "        ixL = np.floor(np.size(sorted_qq)*0.1).astype(int) ## lower index\n",
    "        ixU = np.floor(np.size(sorted_qq)*0.9).astype(int) ## upper index\n",
    "        qq_p10[plot_no,tt]=sorted_qq[ixL]\n",
    "        qq_p90[plot_no,tt]=sorted_qq[ixU]\n",
    "    plot_no=plot_no+1"
   ]
  },
  {
   "cell_type": "code",
   "execution_count": 7,
   "metadata": {
    "scrolled": true
   },
   "outputs": [
    {
     "name": "stderr",
     "output_type": "stream",
     "text": [
      "C:\\Users\\peace\\Anaconda3\\lib\\site-packages\\ipykernel_launcher.py:19: RuntimeWarning: divide by zero encountered in log10\n"
     ]
    },
    {
     "data": {
      "image/png": "[encoded data removed]",
      "text/plain": [
       "<Figure size 576x288 with 9 Axes>"
      ]
     },
     "metadata": {},
     "output_type": "display_data"
    }
   ],
   "source": [
    "fig = plt.figure()\n",
    "marker_style = dict(color='r', linestyle=':', marker='o',\n",
    "                    markersize=8, markerfacecoloralt='gray')\n",
    "\n",
    "fig.subplots_adjust(hspace=0.4, wspace=1)\n",
    "plt.rcParams['figure.figsize'] = (16,10)\n",
    "\n",
    "plot_no=0\n",
    "count=1\n",
    "for well_no in selected_wells:\n",
    "    cur = oil_array[selected_wells[plot_no]]\n",
    "    data = np.log10(cur[0:12])\n",
    "    aa = fig.add_subplot(grid_sz,grid_sz, plot_no+1)\n",
    "    fig.subplots_adjust(hspace=0.4, wspace=.2)\n",
    "    aa.plot(qq_p10[plot_no,:],'r-.',label='P10')\n",
    "    aa.plot(qq_p90[plot_no,:],'b-.',label='P90')\n",
    "    aa.set(xlabel='months', ylabel='Log(Q)',title='Well# {}'.format(selected_wells[plot_no]));\n",
    "    aa.plot(data,'ro',fillstyle='none',**marker_style,label='train data')\n",
    "    aa.plot(np.linspace(12,23,12),np.log10(cur[12:24]),'ko',fillstyle='none',markersize=8,label='Test data' )\n",
    "    #aa.legend(loc='upper right');    \n",
    "    plot_no=plot_no+1;\n",
    "handles, labels = aa.get_legend_handles_labels()\n",
    "fig.legend(handles, labels, loc='upper center',ncol=4);"
   ]
  },
  {
   "cell_type": "code",
   "execution_count": 10,
   "metadata": {},
   "outputs": [
    {
     "name": "stderr",
     "output_type": "stream",
     "text": [
      "C:\\Users\\peace\\Anaconda3\\lib\\site-packages\\ipykernel_launcher.py:7: RuntimeWarning: divide by zero encountered in log10\n",
      "  import sys\n"
     ]
    },
    {
     "data": {
      "text/plain": [
       "0.14814814814814814"
      ]
     },
     "execution_count": 10,
     "metadata": {},
     "output_type": "execute_result"
    }
   ],
   "source": [
    "# Counting number of cells between p10 and p90\n",
    "plot_no=0\n",
    "count=np.zeros([len(selected_wells),12])\n",
    "#count_int=0\n",
    "for well_no in selected_wells:\n",
    "    cur = oil_array[selected_wells[plot_no]]\n",
    "    data = np.log10(cur[12:24])\n",
    "    q_p10=qq_p10[plot_no,12:24]\n",
    "    q_p90=qq_p90[plot_no,12:24]\n",
    "    \n",
    "    for jj in np.arange(0,12):\n",
    "        if data[jj]<q_p90[jj] and data[jj]>q_p10[jj]:\n",
    "            count[plot_no,jj]=1\n",
    "    \n",
    "    plot_no=plot_no+1;\n",
    "sum(sum(count))/(len(data)*len(selected_wells))    "
   ]
  },
  {
   "cell_type": "markdown",
   "metadata": {},
   "source": [
    "Accumulative"
   ]
  },
  {
   "cell_type": "code",
   "execution_count": null,
   "metadata": {},
   "outputs": [],
   "source": [
    "tt_test = np.linspace(1,24,24)\n",
    "#selected_wells=np.array([7,8,9,10,11,12,13,14,16])\n",
    "selected_wells=np.linspace(0,149,150,dtype=int)\n",
    "\n",
    "plot_no=0\n",
    "grid_sz=np.sqrt(len(selected_wells))\n",
    "qq_p10=np.zeros([len(selected_wells),24])\n",
    "qq_p90=np.zeros([len(selected_wells),24])\n",
    "\n",
    "for well_no in selected_wells:\n",
    "    cur = oil_array[selected_wells[plot_no]]\n",
    "    rec_month = np.count_nonzero(cur)\n",
    "    data = np.log10(cur[0:12])\n",
    "\n",
    "    Di = 0.5\n",
    "    logQi = 4\n",
    "    b = 0.5\n",
    "    t=np.arange(0,12)\n",
    "    logQi = data[0]\n",
    "    Niter = 10000\n",
    "    chain = np.zeros((Niter,3))\n",
    "    chain[0,0] = Di # Initialize the chain with first guess\n",
    "    chain[0,1] = logQi\n",
    "    chain[0,2] = b\n",
    "\n",
    "    sigma=0.05\n",
    "\n",
    "    for ii in np.arange(Niter-1):\n",
    "        if ii%10000 ==0:\n",
    "            print('iteration {}'.format(ii))\n",
    "        Di    = chain[ii,0] \n",
    "        logQi = chain[ii,1] \n",
    "        b     = chain[ii,2] \n",
    "        Di_p    = Di + np.random.normal(loc=0.0,scale=0.1,size=1)\n",
    "        logQi_p = logQi + np.random.normal(loc=0.0,scale=0.1,size=1)\n",
    "        b_p     = b + np.random.normal(loc=0.0,scale=0.1,size=1)\n",
    "\n",
    "        if Di_p < 0.1 or Di_p>50 or b_p<0 or b_p>=2 or logQi > 1000000 or logQi<0.01:\n",
    "            chain[ii+1,:] = chain[ii,:]\n",
    "        elif (post(Di_p,logQi_p,b_p,sigma,t,data) / post(Di,logQi,b,sigma,t,data)) > np.random.uniform():\n",
    "            chain[ii+1,0] = Di_p \n",
    "            chain[ii+1,1] = logQi_p \n",
    "            chain[ii+1,2] = b_p \n",
    "        else:\n",
    "            chain[ii+1,:] = chain[ii,:]\n",
    "    print('Number of iteration{}'.format(Niter));\n",
    "\n",
    "    chain = chain[1000:]#burnin\n",
    "\n",
    "    a_Di=round(np.mean(chain[:,0]),3)\n",
    "    a_logQi=round(np.mean(chain[:,1]),3)\n",
    "    a_b=round(np.mean(chain[:,2]),3)\n",
    "\n",
    "    y_arps =  Arps(t,a_Di,a_logQi,a_b)\n",
    "    y_arps_test =  Arps(tt_test,a_Di,a_logQi,a_b)\n",
    "\n",
    "    #Testing\n",
    "    plt.rcParams['figure.figsize'] = (8, 4)\n",
    "    chains_to_plot=np.arange(1000)*9\n",
    "    kk=0\n",
    "    qq=np.zeros([len(chains_to_plot),24])\n",
    "    for ii in chains_to_plot:\n",
    "        qq[kk,:]=Arps(tt_test,chain[ii,0],chain[ii,1],chain[ii,2])\n",
    "        kk+=1\n",
    "\n",
    "    for tt in np.arange(0,24):\n",
    "        sorted_qq=np.sort(qq[:,tt])\n",
    "        ixL = np.floor(np.size(sorted_qq)*0.1).astype(int) ## lower index\n",
    "        ixU = np.floor(np.size(sorted_qq)*0.9).astype(int) ## upper index\n",
    "        qq_p10[plot_no,tt]=sorted_qq[ixL]\n",
    "        qq_p90[plot_no,tt]=sorted_qq[ixU]\n",
    "    plot_no=plot_no+1"
   ]
  },
  {
   "cell_type": "code",
   "execution_count": null,
   "metadata": {},
   "outputs": [],
   "source": [
    "data=np.zeros([len(selected_wells),12])\n",
    "\n",
    "fig = plt.figure()\n",
    "marker_style = dict(color='r', linestyle=':', marker='o',\n",
    "                    markersize=8, markerfacecoloralt='gray')\n",
    "\n",
    "fig.subplots_adjust(hspace=0.4, wspace=1)\n",
    "plt.rcParams['figure.figsize'] = (16,10)\n",
    "\n",
    "plot_no=0\n",
    "count=1\n",
    "for well_no in selected_wells:\n",
    "    cur = oil_array[selected_wells[plot_no]]\n",
    "    data[plot_no,:] = np.log10(cur[0:12])   \n",
    "    plot_no=plot_no+1;"
   ]
  },
  {
   "cell_type": "code",
   "execution_count": 15,
   "metadata": {},
   "outputs": [
    {
     "data": {
      "text/plain": [
       "[(20, 70)]"
      ]
     },
     "execution_count": 15,
     "metadata": {},
     "output_type": "execute_result"
    },
    {
     "data": {
      "image/png": "[encoded data removed]",
      "text/plain": [
       "<Figure size 576x288 with 1 Axes>"
      ]
     },
     "metadata": {},
     "output_type": "display_data"
    }
   ],
   "source": [
    "plt.rcParams['figure.figsize'] = (8, 4)\n",
    "fig = plt.figure()\n",
    "ax= plt.axes()\n",
    "sss=(qq_p10[:,12:24])\n",
    "p10=sss.sum(axis=1)\n",
    "ss=(qq_p90[:,12:24])\n",
    "p90=ss.sum(axis=1)\n",
    "\n",
    "s=data\n",
    "truee=s.sum(axis=1)\n",
    "\n",
    "ax.plot(p10,'r.',alpha=.6)\n",
    "ax.plot(p90,'b.',alpha=.3)\n",
    "ax.plot(truee,'ko',fillstyle='none')\n",
    "ax.set(xlabel='Well #', ylabel='Oil Production'); \n",
    "ax.set(ylim=([20,70]))"
   ]
  },
  {
   "cell_type": "code",
   "execution_count": 16,
   "metadata": {},
   "outputs": [
    {
     "data": {
      "text/plain": [
       "0.11011046892115976"
      ]
     },
     "execution_count": 16,
     "metadata": {},
     "output_type": "execute_result"
    }
   ],
   "source": [
    "#% under estimation\n",
    "acup10=np.sum(sss)\n",
    "acup90=np.sum(ss)\n",
    "acu_true=sum(truee)\n",
    "(acu_true-acup90)/acu_true"
   ]
  },
  {
   "cell_type": "code",
   "execution_count": 17,
   "metadata": {},
   "outputs": [
    {
     "name": "stderr",
     "output_type": "stream",
     "text": [
      "C:\\Users\\peace\\Anaconda3\\lib\\site-packages\\ipykernel_launcher.py:7: RuntimeWarning: divide by zero encountered in log10\n",
      "  import sys\n"
     ]
    },
    {
     "data": {
      "text/plain": [
       "0.3111111111111111"
      ]
     },
     "execution_count": 17,
     "metadata": {},
     "output_type": "execute_result"
    }
   ],
   "source": [
    "#Counting number of wells between p10 and p90\n",
    "plot_no=0\n",
    "count=np.zeros([len(selected_wells),12])\n",
    "#count_int=0\n",
    "for well_no in selected_wells:\n",
    "    cur = oil_array[selected_wells[plot_no]]\n",
    "    data = np.log10(cur[12:24])\n",
    "    q_p10=qq_p10[plot_no,12:24]\n",
    "    q_p90=qq_p90[plot_no,12:24]\n",
    "    \n",
    "    for jj in np.arange(0,12):\n",
    "        if data[jj]<q_p90[jj] and data[jj]>q_p10[jj]:\n",
    "            count[plot_no,jj]=1\n",
    "    \n",
    "    plot_no=plot_no+1;\n",
    "sum(sum(count))/(len(data)*len(selected_wells)) "
   ]
  },
  {
   "cell_type": "code",
   "execution_count": null,
   "metadata": {
    "scrolled": false
   },
   "outputs": [],
   "source": []
  }
 ],
 "metadata": {
  "anaconda-cloud": {},
  "kernelspec": {
   "display_name": "Python 3",
   "language": "python",
   "name": "python3"
  },
  "language_info": {
   "codemirror_mode": {
    "name": "ipython",
    "version": 3
   },
   "file_extension": ".py",
   "mimetype": "text/x-python",
   "name": "python",
   "nbconvert_exporter": "python",
   "pygments_lexer": "ipython3",
   "version": "3.6.5"
  }
 },
 "nbformat": 4,
 "nbformat_minor": 2
}
