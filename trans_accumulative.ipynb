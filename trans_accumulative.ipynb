{
 "cells": [
  {
   "cell_type": "code",
   "execution_count": 17,
   "metadata": {},
   "outputs": [],
   "source": [
    "import pandas\n",
    "import numpy as np\n",
    "import matplotlib.pyplot as plt\n",
    "from scipy import optimize\n",
    "import mpmath as mp"
   ]
  },
  {
   "cell_type": "markdown",
   "metadata": {},
   "source": [
    "#### 1. Read production data from CSV file"
   ]
  },
  {
   "cell_type": "code",
   "execution_count": 18,
   "metadata": {
    "scrolled": true
   },
   "outputs": [
    {
     "name": "stdout",
     "output_type": "stream",
     "text": [
      "Total number of wells are: 153\n"
     ]
    }
   ],
   "source": [
    "#Extract api#, monthly_oil and date from Drillinginfo File\n",
    "df = pandas.read_csv('Monthly_Production.CSV')\n",
    "oil = np.array(df['Monthly Oil'].values)\n",
    "api_well = np.array(df['API/UWI'].values)\n",
    "pro_month = np.array(df['Monthly Production Date'].values)\n",
    "unique_ids=len(np.unique(api_well))\n",
    "print('Total number of wells are: {}'.format (unique_ids)) # Confirming all 153 wells are read into memory"
   ]
  },
  {
   "cell_type": "markdown",
   "metadata": {},
   "source": [
    "#### 2. Data Preparation\n",
    "* Split each individual well's production data into an array\n",
    "* Pick a well, and plot the original production data\n",
    "* Take first 12 month of log(oil rate) as training data"
   ]
  },
  {
   "cell_type": "code",
   "execution_count": 19,
   "metadata": {},
   "outputs": [],
   "source": [
    "ID_0 = api_well[0]\n",
    "i=0\n",
    "j=0\n",
    "k=0\n",
    "oil_array=np.zeros((unique_ids,36),dtype=int)\n",
    "for ID in api_well:\n",
    "    if ID==ID_0:\n",
    "        oil_array[i,j]=oil[k]\n",
    "        j=j+1\n",
    "    else:\n",
    "        ID_0=ID\n",
    "        i=i+1\n",
    "        j=0\n",
    "    k=k+1 "
   ]
  },
  {
   "cell_type": "markdown",
   "metadata": {
    "scrolled": true
   },
   "source": [
    "**Selecting well number 3 production data for fitting**"
   ]
  },
  {
   "cell_type": "code",
   "execution_count": null,
   "metadata": {
    "scrolled": true
   },
   "outputs": [],
   "source": []
  },
  {
   "cell_type": "markdown",
   "metadata": {
    "scrolled": true
   },
   "source": [
    "#### Selecting log transformed first twelve months of data for fitting"
   ]
  },
  {
   "cell_type": "code",
   "execution_count": null,
   "metadata": {
    "scrolled": true
   },
   "outputs": [],
   "source": [
    "\n"
   ]
  },
  {
   "cell_type": "markdown",
   "metadata": {},
   "source": [
    "## MCMC Parameter Estimation of Decline Curve Models\n",
    "There are many models to estimate the oil production decline curve. **Arps** and **Jacobi theta functions** are most popular of them. MCMC parameter estimation comprises of the following steps.\n",
    "  * Define posterior function\n",
    "  * Initialize the chain\n",
    "  * Sampling from posterior distribution\n",
    "### ARPs\n",
    "ARPs model is popular becasue of its application to various production methods and ease of implimentation. Arps correlation is provided as below:\n",
    "$$Q_t=Q_i(1+bD_it)^{-\\frac{1}{b}}$$\n",
    "Where $Q_i$, $b$, $D_i$ are the parameters to be fitted. Which represent initial production from the well, Arps decline exponent and Arps's initial decline rate respectively.\n"
   ]
  },
  {
   "cell_type": "code",
   "execution_count": 20,
   "metadata": {},
   "outputs": [
    {
     "data": {
      "image/png": "[encoded data removed]",
      "text/plain": [
       "<Figure size 576x288 with 1 Axes>"
      ]
     },
     "metadata": {},
     "output_type": "display_data"
    }
   ],
   "source": [
    "t_elf = 12\n",
    "bf = 0.5\n",
    "t_test = np.linspace(0,1000,500)\n",
    "c = np.exp(0.57722)/(1.175*t_elf)\n",
    "b = 2-(2-bf)*np.exp(-np.exp(-c*(t_test-t_elf)+np.exp(0.57722)))\n",
    "plt.rcParams['figure.figsize'] = (8, 4)\n",
    "fig = plt.figure();aa = plt.axes();\n",
    "aa.semilogx(b,'ro-');\n",
    "aa.set(xlabel='months', ylabel='Oil Production');  "
   ]
  },
  {
   "cell_type": "code",
   "execution_count": 21,
   "metadata": {},
   "outputs": [],
   "source": [
    "def Arps(t,Di,logQi,b):\n",
    "    Qt = logQi - 1/b*np.log10(1+b*Di*t)\n",
    "    return Qt"
   ]
  },
  {
   "cell_type": "code",
   "execution_count": 22,
   "metadata": {},
   "outputs": [],
   "source": [
    "def post2(Di,logQi,bf,t_elf,sigma,t,data):\n",
    "    c = np.exp(0.57722)/(1.175*t_elf)\n",
    "    b = 2-(2-bf)*np.exp(-np.exp(-c*(t-t_elf)+np.exp(0.57722)))\n",
    "    like = np.prod(np.exp(-np.power(Arps(t,Di,logQi,b)-data, 2)/sigma**2))\n",
    "    return like # because constant uniform prior"
   ]
  },
  {
   "cell_type": "code",
   "execution_count": null,
   "metadata": {},
   "outputs": [],
   "source": []
  },
  {
   "cell_type": "code",
   "execution_count": 23,
   "metadata": {},
   "outputs": [
    {
     "name": "stdout",
     "output_type": "stream",
     "text": [
      "iteration 0\n",
      "Sampling finished at iteration 10000\n",
      "iteration 0\n",
      "Sampling finished at iteration 10000\n",
      "iteration 0\n",
      "Sampling finished at iteration 10000\n",
      "iteration 0\n",
      "Sampling finished at iteration 10000\n",
      "iteration 0\n",
      "Sampling finished at iteration 10000\n",
      "iteration 0\n",
      "Sampling finished at iteration 10000\n",
      "iteration 0\n",
      "Sampling finished at iteration 10000\n",
      "iteration 0\n",
      "Sampling finished at iteration 10000\n",
      "iteration 0\n",
      "Sampling finished at iteration 10000\n",
      "iteration 0\n",
      "Sampling finished at iteration 10000\n",
      "iteration 0\n",
      "Sampling finished at iteration 10000\n",
      "iteration 0\n",
      "Sampling finished at iteration 10000\n",
      "iteration 0\n",
      "Sampling finished at iteration 10000\n",
      "iteration 0\n",
      "Sampling finished at iteration 10000\n",
      "iteration 0\n",
      "Sampling finished at iteration 10000\n",
      "iteration 0\n",
      "Sampling finished at iteration 10000\n",
      "iteration 0\n",
      "Sampling finished at iteration 10000\n",
      "iteration 0\n",
      "Sampling finished at iteration 10000\n",
      "iteration 0\n"
     ]
    },
    {
     "name": "stderr",
     "output_type": "stream",
     "text": [
      "C:\\Users\\peace\\Anaconda3\\lib\\site-packages\\ipykernel_launcher.py:45: RuntimeWarning: invalid value encountered in double_scalars\n"
     ]
    },
    {
     "name": "stdout",
     "output_type": "stream",
     "text": [
      "Sampling finished at iteration 10000\n",
      "iteration 0\n",
      "Sampling finished at iteration 10000\n",
      "iteration 0\n",
      "Sampling finished at iteration 10000\n",
      "iteration 0\n",
      "Sampling finished at iteration 10000\n",
      "iteration 0\n",
      "Sampling finished at iteration 10000\n",
      "iteration 0\n",
      "Sampling finished at iteration 10000\n",
      "iteration 0\n",
      "Sampling finished at iteration 10000\n",
      "iteration 0\n",
      "Sampling finished at iteration 10000\n",
      "iteration 0\n",
      "Sampling finished at iteration 10000\n",
      "iteration 0\n",
      "Sampling finished at iteration 10000\n",
      "iteration 0\n",
      "Sampling finished at iteration 10000\n",
      "iteration 0\n",
      "Sampling finished at iteration 10000\n",
      "iteration 0\n",
      "Sampling finished at iteration 10000\n",
      "iteration 0\n",
      "Sampling finished at iteration 10000\n",
      "iteration 0\n",
      "Sampling finished at iteration 10000\n",
      "iteration 0\n",
      "Sampling finished at iteration 10000\n",
      "iteration 0\n",
      "Sampling finished at iteration 10000\n",
      "iteration 0\n",
      "Sampling finished at iteration 10000\n",
      "iteration 0\n",
      "Sampling finished at iteration 10000\n",
      "iteration 0\n",
      "Sampling finished at iteration 10000\n",
      "iteration 0\n",
      "Sampling finished at iteration 10000\n",
      "iteration 0\n",
      "Sampling finished at iteration 10000\n",
      "iteration 0\n",
      "Sampling finished at iteration 10000\n",
      "iteration 0\n",
      "Sampling finished at iteration 10000\n",
      "iteration 0\n",
      "Sampling finished at iteration 10000\n",
      "iteration 0\n",
      "Sampling finished at iteration 10000\n",
      "iteration 0\n",
      "Sampling finished at iteration 10000\n",
      "iteration 0\n",
      "Sampling finished at iteration 10000\n",
      "iteration 0\n",
      "Sampling finished at iteration 10000\n",
      "iteration 0\n",
      "Sampling finished at iteration 10000\n",
      "iteration 0\n",
      "Sampling finished at iteration 10000\n",
      "iteration 0\n",
      "Sampling finished at iteration 10000\n",
      "iteration 0\n",
      "Sampling finished at iteration 10000\n",
      "iteration 0\n",
      "Sampling finished at iteration 10000\n",
      "iteration 0\n",
      "Sampling finished at iteration 10000\n",
      "iteration 0\n",
      "Sampling finished at iteration 10000\n",
      "iteration 0\n",
      "Sampling finished at iteration 10000\n",
      "iteration 0\n"
     ]
    },
    {
     "name": "stderr",
     "output_type": "stream",
     "text": [
      "C:\\Users\\peace\\Anaconda3\\lib\\site-packages\\ipykernel_launcher.py:45: RuntimeWarning: divide by zero encountered in double_scalars\n"
     ]
    },
    {
     "name": "stdout",
     "output_type": "stream",
     "text": [
      "Sampling finished at iteration 10000\n",
      "iteration 0\n",
      "Sampling finished at iteration 10000\n",
      "iteration 0\n",
      "Sampling finished at iteration 10000\n",
      "iteration 0\n",
      "Sampling finished at iteration 10000\n",
      "iteration 0\n",
      "Sampling finished at iteration 10000\n",
      "iteration 0\n",
      "Sampling finished at iteration 10000\n",
      "iteration 0\n",
      "Sampling finished at iteration 10000\n",
      "iteration 0\n",
      "Sampling finished at iteration 10000\n",
      "iteration 0\n",
      "Sampling finished at iteration 10000\n",
      "iteration 0\n",
      "Sampling finished at iteration 10000\n",
      "iteration 0\n",
      "Sampling finished at iteration 10000\n",
      "iteration 0\n",
      "Sampling finished at iteration 10000\n",
      "iteration 0\n",
      "Sampling finished at iteration 10000\n",
      "iteration 0\n",
      "Sampling finished at iteration 10000\n",
      "iteration 0\n",
      "Sampling finished at iteration 10000\n",
      "iteration 0\n",
      "Sampling finished at iteration 10000\n",
      "iteration 0\n",
      "Sampling finished at iteration 10000\n",
      "iteration 0\n",
      "Sampling finished at iteration 10000\n",
      "iteration 0\n",
      "Sampling finished at iteration 10000\n",
      "iteration 0\n",
      "Sampling finished at iteration 10000\n",
      "iteration 0\n",
      "Sampling finished at iteration 10000\n",
      "iteration 0\n",
      "Sampling finished at iteration 10000\n",
      "iteration 0\n",
      "Sampling finished at iteration 10000\n",
      "iteration 0\n",
      "Sampling finished at iteration 10000\n",
      "iteration 0\n",
      "Sampling finished at iteration 10000\n",
      "iteration 0\n",
      "Sampling finished at iteration 10000\n",
      "iteration 0\n",
      "Sampling finished at iteration 10000\n",
      "iteration 0\n",
      "Sampling finished at iteration 10000\n",
      "iteration 0\n",
      "Sampling finished at iteration 10000\n",
      "iteration 0\n",
      "Sampling finished at iteration 10000\n",
      "iteration 0\n",
      "Sampling finished at iteration 10000\n",
      "iteration 0\n",
      "Sampling finished at iteration 10000\n",
      "iteration 0\n",
      "Sampling finished at iteration 10000\n",
      "iteration 0\n",
      "Sampling finished at iteration 10000\n",
      "iteration 0\n",
      "Sampling finished at iteration 10000\n",
      "iteration 0\n",
      "Sampling finished at iteration 10000\n",
      "iteration 0\n",
      "Sampling finished at iteration 10000\n",
      "iteration 0\n",
      "Sampling finished at iteration 10000\n",
      "iteration 0\n",
      "Sampling finished at iteration 10000\n",
      "iteration 0\n",
      "Sampling finished at iteration 10000\n",
      "iteration 0\n",
      "Sampling finished at iteration 10000\n",
      "iteration 0\n",
      "Sampling finished at iteration 10000\n",
      "iteration 0\n",
      "Sampling finished at iteration 10000\n",
      "iteration 0\n",
      "Sampling finished at iteration 10000\n",
      "iteration 0\n",
      "Sampling finished at iteration 10000\n",
      "iteration 0\n",
      "Sampling finished at iteration 10000\n",
      "iteration 0\n",
      "Sampling finished at iteration 10000\n",
      "iteration 0\n",
      "Sampling finished at iteration 10000\n",
      "iteration 0\n",
      "Sampling finished at iteration 10000\n",
      "iteration 0\n",
      "Sampling finished at iteration 10000\n",
      "iteration 0\n",
      "Sampling finished at iteration 10000\n",
      "iteration 0\n",
      "Sampling finished at iteration 10000\n",
      "iteration 0\n",
      "Sampling finished at iteration 10000\n",
      "iteration 0\n",
      "Sampling finished at iteration 10000\n",
      "iteration 0\n",
      "Sampling finished at iteration 10000\n",
      "iteration 0\n",
      "Sampling finished at iteration 10000\n",
      "iteration 0\n",
      "Sampling finished at iteration 10000\n",
      "iteration 0\n",
      "Sampling finished at iteration 10000\n",
      "iteration 0\n",
      "Sampling finished at iteration 10000\n",
      "iteration 0\n",
      "Sampling finished at iteration 10000\n",
      "iteration 0\n",
      "Sampling finished at iteration 10000\n",
      "iteration 0\n",
      "Sampling finished at iteration 10000\n",
      "iteration 0\n",
      "Sampling finished at iteration 10000\n",
      "iteration 0\n",
      "Sampling finished at iteration 10000\n",
      "iteration 0\n",
      "Sampling finished at iteration 10000\n",
      "iteration 0\n",
      "Sampling finished at iteration 10000\n",
      "iteration 0\n",
      "Sampling finished at iteration 10000\n",
      "iteration 0\n",
      "Sampling finished at iteration 10000\n",
      "iteration 0\n",
      "Sampling finished at iteration 10000\n",
      "iteration 0\n",
      "Sampling finished at iteration 10000\n",
      "iteration 0\n",
      "Sampling finished at iteration 10000\n",
      "iteration 0\n",
      "Sampling finished at iteration 10000\n",
      "iteration 0\n",
      "Sampling finished at iteration 10000\n",
      "iteration 0\n",
      "Sampling finished at iteration 10000\n",
      "iteration 0\n",
      "Sampling finished at iteration 10000\n",
      "iteration 0\n",
      "Sampling finished at iteration 10000\n",
      "iteration 0\n",
      "Sampling finished at iteration 10000\n",
      "iteration 0\n",
      "Sampling finished at iteration 10000\n",
      "iteration 0\n",
      "Sampling finished at iteration 10000\n",
      "iteration 0\n",
      "Sampling finished at iteration 10000\n",
      "iteration 0\n",
      "Sampling finished at iteration 10000\n",
      "iteration 0\n",
      "Sampling finished at iteration 10000\n",
      "iteration 0\n",
      "Sampling finished at iteration 10000\n",
      "iteration 0\n",
      "Sampling finished at iteration 10000\n",
      "iteration 0\n",
      "Sampling finished at iteration 10000\n",
      "iteration 0\n",
      "Sampling finished at iteration 10000\n",
      "iteration 0\n",
      "Sampling finished at iteration 10000\n",
      "iteration 0\n",
      "Sampling finished at iteration 10000\n",
      "iteration 0\n",
      "Sampling finished at iteration 10000\n",
      "iteration 0\n",
      "Sampling finished at iteration 10000\n",
      "iteration 0\n",
      "Sampling finished at iteration 10000\n",
      "iteration 0\n",
      "Sampling finished at iteration 10000\n",
      "iteration 0\n",
      "Sampling finished at iteration 10000\n",
      "iteration 0\n",
      "Sampling finished at iteration 10000\n",
      "iteration 0\n",
      "Sampling finished at iteration 10000\n"
     ]
    }
   ],
   "source": [
    "tt_test = np.linspace(1,24,24)\n",
    "#selected_wells=np.array([7,8,9,10,11,12,13,14,16])\n",
    "selected_wells=np.linspace(0,149,150,dtype=int)\n",
    "plot_no=0\n",
    "grid_sz=np.sqrt(len(selected_wells))\n",
    "qq_p10=np.zeros([len(selected_wells),24])\n",
    "qq_p90=np.zeros([len(selected_wells),24])\n",
    "\n",
    "for well_no in selected_wells:\n",
    "    cur = oil_array[selected_wells[plot_no]]\n",
    "    rec_month = np.count_nonzero(cur)\n",
    "    data = np.log10(cur[0:12])\n",
    "\n",
    "    Di = 0.5\n",
    "    logQi = 4\n",
    "    b = 0.5\n",
    "    t=np.arange(0,12)\n",
    " \n",
    "    logQi = data[0]\n",
    "    bf = 0.5\n",
    "    t_elf = 24\n",
    "    Niter = 10000\n",
    "    chain = np.zeros((Niter,4))\n",
    "    chain[0,0] = Di # Initialize the chain with first guess\n",
    "    chain[0,1] = logQi\n",
    "    chain[0,2] = bf \n",
    "    chain[0,3] = t_elf\n",
    "    \n",
    "    sigma=0.05\n",
    "\n",
    "    for ii in np.arange(Niter-1):\n",
    "            if ii%50000 ==0:\n",
    "                print('iteration {}'.format(ii))\n",
    "            Di    = chain[ii,0] \n",
    "            logQi = chain[ii,1] \n",
    "            bf    = chain[ii,2] \n",
    "            t_elf = chain[ii,3]\n",
    "            Di_p    = Di + np.random.normal(loc=0.0,scale=0.1,size=1)\n",
    "            logQi_p = logQi + np.random.normal(loc=0.0,scale=0.1,size=1)\n",
    "            bf_p    = bf + np.random.normal(loc=0.0,scale=0.1,size=1)\n",
    "            t_elf_p = t_elf + np.random.normal(loc=0.0,scale=0.1,size=1)\n",
    "\n",
    "            if Di_p < 0.1 or Di_p>50 or bf_p<0 or bf_p>1 or t_elf_p<0 or logQi > 1000000 or logQi<0.01:\n",
    "                chain[ii+1,:] = chain[ii,:]\n",
    "            elif (post2(Di_p,logQi_p,bf_p,t_elf_p,sigma,t,data) / post2(Di,logQi,bf,t_elf,sigma,t,data)) > np.random.uniform():\n",
    "                chain[ii+1,0] = Di_p \n",
    "                chain[ii+1,1] = logQi_p \n",
    "                chain[ii+1,2] = bf_p\n",
    "                chain[ii+1,3] = t_elf_p\n",
    "            else:\n",
    "                chain[ii+1,:] = chain[ii,:]\n",
    "    print('Sampling finished at iteration {}'.format(Niter))\n",
    "\n",
    "    chain = chain[1000:]#burnin\n",
    "\n",
    "    t_Di=round(np.mean(chain[:,0]),3)\n",
    "    t_logQi=round(np.mean(chain[:,1]),3)\n",
    "    t_bf=round(np.mean(chain[:,2]),3)\n",
    "\n",
    "    #Testing\n",
    "    plt.rcParams['figure.figsize'] = (8, 4)\n",
    "    chains_to_plot=np.arange(1000)*9\n",
    "    kk=0\n",
    "    qq=np.zeros([len(chains_to_plot),24])\n",
    "    \n",
    "    for ii in chains_to_plot:        \n",
    "        c = np.exp(0.57722)/(1.175*24) ############t_elf=24\n",
    "        b = 2-(2-chain[ii,2])*np.exp(-np.exp(-c*(tt_test-t_elf)+np.exp(0.57722)))\n",
    "        qq[kk,:]=Arps(tt_test,chain[ii,0],chain[ii,1],b)\n",
    "        kk+=1\n",
    "\n",
    "    for tt in np.arange(0,24):\n",
    "        sorted_qq=np.sort(qq[:,tt])\n",
    "        ixL = np.floor(np.size(sorted_qq)*0.1).astype(int) ## lower index\n",
    "        ixU = np.floor(np.size(sorted_qq)*0.9).astype(int) ## upper index\n",
    "        qq_p10[plot_no,tt]=sorted_qq[ixL]\n",
    "        qq_p90[plot_no,tt]=sorted_qq[ixU]\n",
    "    plot_no=plot_no+1"
   ]
  },
  {
   "cell_type": "code",
   "execution_count": 26,
   "metadata": {},
   "outputs": [],
   "source": [
    "data=np.zeros([len(selected_wells),12])"
   ]
  },
  {
   "cell_type": "code",
   "execution_count": 27,
   "metadata": {
    "scrolled": true
   },
   "outputs": [
    {
     "name": "stderr",
     "output_type": "stream",
     "text": [
      "C:\\Users\\peace\\Anaconda3\\lib\\site-packages\\ipykernel_launcher.py:19: RuntimeWarning: divide by zero encountered in log10\n"
     ]
    },
    {
     "ename": "ValueError",
     "evalue": "num must be 1 <= num <= 144, not 145",
     "output_type": "error",
     "traceback": [
      "\u001b[1;31m---------------------------------------------------------------------------\u001b[0m",
      "\u001b[1;31mValueError\u001b[0m                                Traceback (most recent call last)",
      "\u001b[1;32m<ipython-input-27-7674443e2143>\u001b[0m in \u001b[0;36m<module>\u001b[1;34m()\u001b[0m\n\u001b[0;32m     11\u001b[0m     \u001b[0mdata\u001b[0m\u001b[1;33m[\u001b[0m\u001b[0mplot_no\u001b[0m\u001b[1;33m,\u001b[0m\u001b[1;33m:\u001b[0m\u001b[1;33m]\u001b[0m \u001b[1;33m=\u001b[0m \u001b[0mnp\u001b[0m\u001b[1;33m.\u001b[0m\u001b[0mlog10\u001b[0m\u001b[1;33m(\u001b[0m\u001b[0mcur\u001b[0m\u001b[1;33m[\u001b[0m\u001b[1;36m0\u001b[0m\u001b[1;33m:\u001b[0m\u001b[1;36m12\u001b[0m\u001b[1;33m]\u001b[0m\u001b[1;33m)\u001b[0m\u001b[1;33m\u001b[0m\u001b[0m\n\u001b[0;32m     12\u001b[0m     \u001b[1;31m#data = np.log10(cur[0:12])\u001b[0m\u001b[1;33m\u001b[0m\u001b[1;33m\u001b[0m\u001b[0m\n\u001b[1;32m---> 13\u001b[1;33m     \u001b[0maa\u001b[0m \u001b[1;33m=\u001b[0m \u001b[0mfig\u001b[0m\u001b[1;33m.\u001b[0m\u001b[0madd_subplot\u001b[0m\u001b[1;33m(\u001b[0m\u001b[0mgrid_sz\u001b[0m\u001b[1;33m,\u001b[0m\u001b[0mgrid_sz\u001b[0m\u001b[1;33m,\u001b[0m \u001b[0mplot_no\u001b[0m\u001b[1;33m+\u001b[0m\u001b[1;36m1\u001b[0m\u001b[1;33m)\u001b[0m\u001b[1;33m\u001b[0m\u001b[0m\n\u001b[0m\u001b[0;32m     14\u001b[0m     \u001b[0mfig\u001b[0m\u001b[1;33m.\u001b[0m\u001b[0msubplots_adjust\u001b[0m\u001b[1;33m(\u001b[0m\u001b[0mhspace\u001b[0m\u001b[1;33m=\u001b[0m\u001b[1;36m0.4\u001b[0m\u001b[1;33m,\u001b[0m \u001b[0mwspace\u001b[0m\u001b[1;33m=\u001b[0m\u001b[1;36m.2\u001b[0m\u001b[1;33m)\u001b[0m\u001b[1;33m\u001b[0m\u001b[0m\n\u001b[0;32m     15\u001b[0m     \u001b[0maa\u001b[0m\u001b[1;33m.\u001b[0m\u001b[0mplot\u001b[0m\u001b[1;33m(\u001b[0m\u001b[0mqq_p10\u001b[0m\u001b[1;33m[\u001b[0m\u001b[0mplot_no\u001b[0m\u001b[1;33m,\u001b[0m\u001b[1;33m:\u001b[0m\u001b[1;33m]\u001b[0m\u001b[1;33m,\u001b[0m\u001b[1;34m'r-.'\u001b[0m\u001b[1;33m,\u001b[0m\u001b[0mlabel\u001b[0m\u001b[1;33m=\u001b[0m\u001b[1;34m'P10'\u001b[0m\u001b[1;33m)\u001b[0m\u001b[1;33m\u001b[0m\u001b[0m\n",
      "\u001b[1;32m~\\Anaconda3\\lib\\site-packages\\matplotlib\\figure.py\u001b[0m in \u001b[0;36madd_subplot\u001b[1;34m(self, *args, **kwargs)\u001b[0m\n\u001b[0;32m   1365\u001b[0m                     \u001b[0mself\u001b[0m\u001b[1;33m.\u001b[0m\u001b[0m_axstack\u001b[0m\u001b[1;33m.\u001b[0m\u001b[0mremove\u001b[0m\u001b[1;33m(\u001b[0m\u001b[0max\u001b[0m\u001b[1;33m)\u001b[0m\u001b[1;33m\u001b[0m\u001b[0m\n\u001b[0;32m   1366\u001b[0m \u001b[1;33m\u001b[0m\u001b[0m\n\u001b[1;32m-> 1367\u001b[1;33m             \u001b[0ma\u001b[0m \u001b[1;33m=\u001b[0m \u001b[0msubplot_class_factory\u001b[0m\u001b[1;33m(\u001b[0m\u001b[0mprojection_class\u001b[0m\u001b[1;33m)\u001b[0m\u001b[1;33m(\u001b[0m\u001b[0mself\u001b[0m\u001b[1;33m,\u001b[0m \u001b[1;33m*\u001b[0m\u001b[0margs\u001b[0m\u001b[1;33m,\u001b[0m \u001b[1;33m**\u001b[0m\u001b[0mkwargs\u001b[0m\u001b[1;33m)\u001b[0m\u001b[1;33m\u001b[0m\u001b[0m\n\u001b[0m\u001b[0;32m   1368\u001b[0m         \u001b[0mself\u001b[0m\u001b[1;33m.\u001b[0m\u001b[0m_axstack\u001b[0m\u001b[1;33m.\u001b[0m\u001b[0madd\u001b[0m\u001b[1;33m(\u001b[0m\u001b[0mkey\u001b[0m\u001b[1;33m,\u001b[0m \u001b[0ma\u001b[0m\u001b[1;33m)\u001b[0m\u001b[1;33m\u001b[0m\u001b[0m\n\u001b[0;32m   1369\u001b[0m         \u001b[0mself\u001b[0m\u001b[1;33m.\u001b[0m\u001b[0msca\u001b[0m\u001b[1;33m(\u001b[0m\u001b[0ma\u001b[0m\u001b[1;33m)\u001b[0m\u001b[1;33m\u001b[0m\u001b[0m\n",
      "\u001b[1;32m~\\Anaconda3\\lib\\site-packages\\matplotlib\\axes\\_subplots.py\u001b[0m in \u001b[0;36m__init__\u001b[1;34m(self, fig, *args, **kwargs)\u001b[0m\n\u001b[0;32m     58\u001b[0m                     raise ValueError(\n\u001b[0;32m     59\u001b[0m                         (\"num must be 1 <= num <= {maxn}, not {num}\"\n\u001b[1;32m---> 60\u001b[1;33m                         ).format(maxn=rows*cols, num=num))\n\u001b[0m\u001b[0;32m     61\u001b[0m                 self._subplotspec = GridSpec(\n\u001b[0;32m     62\u001b[0m                         rows, cols, figure=self.figure)[int(num) - 1]\n",
      "\u001b[1;31mValueError\u001b[0m: num must be 1 <= num <= 144, not 145"
     ]
    },
    {
     "data": {
      "image/png": "[encoded data removed]",
      "text/plain": [
       "<Figure size 1152x720 with 144 Axes>"
      ]
     },
     "metadata": {},
     "output_type": "display_data"
    }
   ],
   "source": [
    "marker_style = dict(color='r', linestyle=':', marker='o',\n",
    "                    markersize=8, markerfacecoloralt='gray')\n",
    "\n",
    "fig.subplots_adjust(hspace=0.4, wspace=1)\n",
    "plt.rcParams['figure.figsize'] = (16,10)\n",
    "fig = plt.figure()\n",
    "plot_no=0\n",
    "\n",
    "for well_no in selected_wells:\n",
    "    cur = oil_array[selected_wells[plot_no]]\n",
    "    data[plot_no,:] = np.log10(cur[0:12])\n",
    "    #data = np.log10(cur[0:12])\n",
    "    aa = fig.add_subplot(grid_sz,grid_sz, plot_no+1)\n",
    "    fig.subplots_adjust(hspace=0.4, wspace=.2)\n",
    "    aa.plot(qq_p10[plot_no,:],'r-.',label='P10')\n",
    "    aa.plot(qq_p90[plot_no,:],'b-.',label='P90')\n",
    "    aa.set(xlabel='months', ylabel='Log(Q)',title='Well# {}'.format(selected_wells[plot_no]));\n",
    "    aa.plot(data,'ro',fillstyle='none',**marker_style,label='train data')\n",
    "    aa.plot(np.linspace(12,23,12),np.log10(cur[12:24]),'ko',fillstyle='none',markersize=8,label='Test data' )\n",
    "    #aa.legend(loc='upper right');\n",
    "    plot_no=plot_no+1;\n",
    "handles, labels = aa.get_legend_handles_labels()\n",
    "fig.legend(handles, labels, loc='upper center',ncol=4);"
   ]
  },
  {
   "cell_type": "code",
   "execution_count": null,
   "metadata": {
    "scrolled": false
   },
   "outputs": [],
   "source": [
    "plot_no=0\n",
    "count=np.zeros([len(selected_wells),12])\n",
    "#count_int=0\n",
    "for well_no in selected_wells:\n",
    "    cur = oil_array[selected_wells[plot_no]]\n",
    "    data = np.log10(cur[12:24])\n",
    "    q_p10=qq_p10[plot_no,12:24]\n",
    "    q_p90=qq_p90[plot_no,12:24]\n",
    "    \n",
    "    for jj in np.arange(0,12):\n",
    "        if data[jj]<q_p90[jj] and data[jj]>q_p10[jj]:\n",
    "            count[plot_no,jj]=1\n",
    "    \n",
    "    plot_no=plot_no+1;\n",
    "sum(sum(count))/(len(data)*len(selected_wells)) "
   ]
  },
  {
   "cell_type": "code",
   "execution_count": 39,
   "metadata": {},
   "outputs": [
    {
     "data": {
      "text/plain": [
       "[(20, 70)]"
      ]
     },
     "execution_count": 39,
     "metadata": {},
     "output_type": "execute_result"
    },
    {
     "data": {
      "image/png": "[encoded data removed]",
      "text/plain": [
       "<Figure size 576x288 with 1 Axes>"
      ]
     },
     "metadata": {},
     "output_type": "display_data"
    }
   ],
   "source": [
    "plt.rcParams['figure.figsize'] = (8, 4)\n",
    "fig = plt.figure()\n",
    "ax= plt.axes()\n",
    "sss=(qq_p10[:,12:24])\n",
    "p10=sss.sum(axis=1)\n",
    "ss=(qq_p90[:,12:24])\n",
    "p90=ss.sum(axis=1)\n",
    "\n",
    "s=data\n",
    "truee=s.sum(axis=1)\n",
    "\n",
    "ax.plot(p10,'r.',alpha=.6)\n",
    "ax.plot(p90,'b.',alpha=.3)\n",
    "ax.plot(truee,'ko',fillstyle='none')\n",
    "ax.set(xlabel='Well #', ylabel='Oil Production'); \n",
    "ax.set(ylim=([20,70]))"
   ]
  },
  {
   "cell_type": "markdown",
   "metadata": {},
   "source": [
    "Chains seem to converge after 10000 iterations."
   ]
  },
  {
   "cell_type": "code",
   "execution_count": 52,
   "metadata": {},
   "outputs": [],
   "source": [
    "acup10=np.sum(sss)"
   ]
  },
  {
   "cell_type": "code",
   "execution_count": 51,
   "metadata": {},
   "outputs": [],
   "source": [
    "acup90=np.sum(ss)"
   ]
  },
  {
   "cell_type": "code",
   "execution_count": 53,
   "metadata": {},
   "outputs": [],
   "source": [
    "acu_true=sum(truee)"
   ]
  },
  {
   "cell_type": "code",
   "execution_count": 54,
   "metadata": {},
   "outputs": [
    {
     "data": {
      "text/plain": [
       "0.03612179432997636"
      ]
     },
     "execution_count": 54,
     "metadata": {},
     "output_type": "execute_result"
    }
   ],
   "source": [
    "(acu_true-acup90)/acu_ture"
   ]
  },
  {
   "cell_type": "markdown",
   "metadata": {},
   "source": [
    "#### ARPs-Posterior Summary\n",
    "Mean values of the fitted parameters"
   ]
  },
  {
   "cell_type": "code",
   "execution_count": null,
   "metadata": {},
   "outputs": [],
   "source": []
  },
  {
   "cell_type": "code",
   "execution_count": null,
   "metadata": {},
   "outputs": [],
   "source": []
  },
  {
   "cell_type": "markdown",
   "metadata": {},
   "source": [
    "Confidence interval of the fit is calculated by drawing different samples from chains."
   ]
  },
  {
   "cell_type": "code",
   "execution_count": null,
   "metadata": {},
   "outputs": [],
   "source": []
  },
  {
   "cell_type": "markdown",
   "metadata": {},
   "source": [
    "Individual parameter distributions are shown below"
   ]
  },
  {
   "cell_type": "code",
   "execution_count": null,
   "metadata": {},
   "outputs": [],
   "source": []
  },
  {
   "cell_type": "code",
   "execution_count": null,
   "metadata": {},
   "outputs": [],
   "source": []
  },
  {
   "cell_type": "code",
   "execution_count": null,
   "metadata": {},
   "outputs": [],
   "source": []
  },
  {
   "cell_type": "markdown",
   "metadata": {},
   "source": [
    "### Hyberbolic Transient Function\n",
    "Corelation for Jacobi Theta function is provided below.\n",
    "$$Equation to be added$$\n",
    "In theta function model parameter $b$ from arps is further parameterized into $b_f$ and $t_{elf}$."
   ]
  },
  {
   "cell_type": "code",
   "execution_count": null,
   "metadata": {
    "scrolled": true
   },
   "outputs": [],
   "source": []
  },
  {
   "cell_type": "markdown",
   "metadata": {},
   "source": [
    "Jacobi Theta function"
   ]
  },
  {
   "cell_type": "code",
   "execution_count": null,
   "metadata": {},
   "outputs": [],
   "source": []
  },
  {
   "cell_type": "code",
   "execution_count": null,
   "metadata": {},
   "outputs": [],
   "source": []
  },
  {
   "cell_type": "code",
   "execution_count": 9,
   "metadata": {},
   "outputs": [
    {
     "name": "stdout",
     "output_type": "stream",
     "text": [
      "iteration 0\n"
     ]
    },
    {
     "ename": "IndexError",
     "evalue": "index 9000 is out of bounds for axis 0 with size 9000",
     "output_type": "error",
     "traceback": [
      "\u001b[1;31m---------------------------------------------------------------------------\u001b[0m",
      "\u001b[1;31mIndexError\u001b[0m                                Traceback (most recent call last)",
      "\u001b[1;32m<ipython-input-9-7bdcb7bf6ccd>\u001b[0m in \u001b[0;36m<module>\u001b[1;34m()\u001b[0m\n\u001b[0;32m     19\u001b[0m             \u001b[0mchain\u001b[0m\u001b[1;33m[\u001b[0m\u001b[0mii\u001b[0m\u001b[1;33m+\u001b[0m\u001b[1;36m1\u001b[0m\u001b[1;33m,\u001b[0m\u001b[1;36m3\u001b[0m\u001b[1;33m]\u001b[0m \u001b[1;33m=\u001b[0m \u001b[0mt_elf_p\u001b[0m\u001b[1;33m\u001b[0m\u001b[0m\n\u001b[0;32m     20\u001b[0m         \u001b[1;32melse\u001b[0m\u001b[1;33m:\u001b[0m\u001b[1;33m\u001b[0m\u001b[0m\n\u001b[1;32m---> 21\u001b[1;33m             \u001b[0mchain\u001b[0m\u001b[1;33m[\u001b[0m\u001b[0mii\u001b[0m\u001b[1;33m+\u001b[0m\u001b[1;36m1\u001b[0m\u001b[1;33m,\u001b[0m\u001b[1;33m:\u001b[0m\u001b[1;33m]\u001b[0m \u001b[1;33m=\u001b[0m \u001b[0mchain\u001b[0m\u001b[1;33m[\u001b[0m\u001b[0mii\u001b[0m\u001b[1;33m,\u001b[0m\u001b[1;33m:\u001b[0m\u001b[1;33m]\u001b[0m\u001b[1;33m\u001b[0m\u001b[0m\n\u001b[0m\u001b[0;32m     22\u001b[0m \u001b[0mprint\u001b[0m\u001b[1;33m(\u001b[0m\u001b[1;34m'Sampling finished at iteration {}'\u001b[0m\u001b[1;33m.\u001b[0m\u001b[0mformat\u001b[0m\u001b[1;33m(\u001b[0m\u001b[0mNiter\u001b[0m\u001b[1;33m)\u001b[0m\u001b[1;33m)\u001b[0m\u001b[1;33m\u001b[0m\u001b[0m\n",
      "\u001b[1;31mIndexError\u001b[0m: index 9000 is out of bounds for axis 0 with size 9000"
     ]
    }
   ],
   "source": [
    "for ii in np.arange(Niter-1):\n",
    "        if ii%50000 ==0:\n",
    "            print('iteration {}'.format(ii))\n",
    "        Di    = chain[ii,0] \n",
    "        logQi = chain[ii,1] \n",
    "        bf    = chain[ii,2] \n",
    "        t_elf = chain[ii,3]\n",
    "        Di_p    = Di + np.random.normal(loc=0.0,scale=0.1,size=1)\n",
    "        logQi_p = logQi + np.random.normal(loc=0.0,scale=0.1,size=1)\n",
    "        bf_p    = bf + np.random.normal(loc=0.0,scale=0.1,size=1)\n",
    "        t_elf_p = t_elf + np.random.normal(loc=0.0,scale=0.1,size=1)\n",
    "        \n",
    "        if Di_p < 0.1 or Di_p>50 or bf_p<0 or bf_p>1 or t_elf_p<0 or logQi > 1000000 or logQi<0.01:\n",
    "            chain[ii+1,:] = chain[ii,:]\n",
    "        elif (post2(Di_p,logQi_p,bf_p,t_elf_p,sigma,t,data) / post2(Di,logQi,bf,t_elf,sigma,t,data)) > np.random.uniform():\n",
    "            chain[ii+1,0] = Di_p \n",
    "            chain[ii+1,1] = logQi_p \n",
    "            chain[ii+1,2] = bf_p\n",
    "            chain[ii+1,3] = t_elf_p\n",
    "        else:\n",
    "            chain[ii+1,:] = chain[ii,:]\n",
    "print('Sampling finished at iteration {}'.format(Niter))"
   ]
  },
  {
   "cell_type": "code",
   "execution_count": null,
   "metadata": {},
   "outputs": [],
   "source": [
    "plt.rcParams['figure.figsize'] = (12, 2.5)\n",
    "fig = plt.figure()\n",
    "fig.subplots_adjust(hspace=0.4, wspace=.25)\n",
    "\n",
    "ax = fig.add_subplot(1, 4, 1)\n",
    "ax.plot(chain[:,0],color='r',alpha=.5);\n",
    "ax.set(xlabel='Di_p', ylabel='Magnitude'); \n",
    "\n",
    "ax = fig.add_subplot(1, 4, 2)\n",
    "ax.plot(chain[:,1],color='r',alpha=.5);\n",
    "ax.set(xlabel='Log(Qi)_p', ylabel='Magnitude'); \n",
    "\n",
    "ax = fig.add_subplot(1, 4, 3)\n",
    "ax.plot(chain[:,2],color='r',alpha=.5);\n",
    "ax.set(xlabel='bf_p', ylabel='Magnitude'); \n",
    "\n",
    "ax = fig.add_subplot(1, 4, 4)\n",
    "ax.plot(chain[:,3],color='r',alpha=.5);\n",
    "ax.set(xlabel='t_elf', ylabel='Magnitude'); "
   ]
  },
  {
   "cell_type": "code",
   "execution_count": null,
   "metadata": {},
   "outputs": [],
   "source": [
    "chain = chain[10000:]#burnin\n",
    "#np.size(chain[:,2])"
   ]
  },
  {
   "cell_type": "markdown",
   "metadata": {},
   "source": [
    "### Hyperbolic Transient-Posterior Summaries\n",
    "Mean value of the fitted parameters is as follows."
   ]
  },
  {
   "cell_type": "code",
   "execution_count": null,
   "metadata": {},
   "outputs": [],
   "source": []
  },
  {
   "cell_type": "code",
   "execution_count": null,
   "metadata": {},
   "outputs": [],
   "source": [
    "  "
   ]
  },
  {
   "cell_type": "markdown",
   "metadata": {},
   "source": [
    "Drawing from chains to develop confidence interval"
   ]
  },
  {
   "cell_type": "code",
   "execution_count": null,
   "metadata": {},
   "outputs": [],
   "source": [
    "plt.rcParams['figure.figsize'] = (10, 4)\n",
    "\n",
    "chains_to_plot=np.arange(1000)*9\n",
    "fig = plt.figure()\n",
    "aa = fig.add_subplot(1, 2, 1)\n",
    "aa.plot(data,'ro',fillstyle='none',**marker_style)\n",
    "#aa.plot(y_hat,'g-')\n",
    "kk=0\n",
    "qq=np.zeros([len(chains_to_plot),len(t)])\n",
    "for ii in chains_to_plot:\n",
    "    b = 2-(2-chain[ii,2])*np.exp(-np.exp(-c*(t-chain[ii,3])+np.exp(0.57722)))\n",
    "    qq[kk,:]=Arps(t,chain[ii,0],chain[ii,1],b)\n",
    "    aa.plot(qq[kk,:],color='blue',alpha=0.002)\n",
    "    kk+=1\n",
    "    aa.set(ylim=(3.8, 4.4),xlabel='months', ylabel='Oil Production')\n",
    "    \n",
    "qq_p10=np.zeros(len(t))\n",
    "qq_p90=np.zeros(len(t))\n",
    "for tt in np.arange(0,12):\n",
    "    sorted_qq=np.sort(qq[:,tt])\n",
    "    ixL = np.floor(np.size(sorted_qq)*.1).astype(int) ## lower index\n",
    "    ixU = np.floor(np.size(sorted_qq)*.9).astype(int) ## upper index\n",
    "    qq_p10[tt]=sorted_qq[ixL]\n",
    "    qq_p90[tt]=sorted_qq[ixU]\n",
    "aa = fig.add_subplot(1, 2, 2)\n",
    "aa.plot(qq_p10,'ko',fillstyle='none')\n",
    "aa.plot(qq_p90,'ko',fillstyle='none')\n",
    "aa.set(ylim=(3.8, 4.4),xlabel='months', ylabel='P10 and P90');"
   ]
  },
  {
   "cell_type": "markdown",
   "metadata": {},
   "source": [
    "Distribution of individual parameters"
   ]
  },
  {
   "cell_type": "code",
   "execution_count": null,
   "metadata": {},
   "outputs": [],
   "source": [
    "plt.rcParams['figure.figsize'] = (13, 2.5)\n",
    "fig = plt.figure()\n",
    "fig.subplots_adjust(hspace=0.4, wspace=.25)\n",
    "\n",
    "ax = fig.add_subplot(1, 4, 1)\n",
    "ax.hist(chain[:,0],25,density=True,color='blue');\n",
    "ax.set(xlabel='Di', ylabel='Magnitude'); \n",
    "\n",
    "ax = fig.add_subplot(1, 4, 2)\n",
    "ax.hist(chain[:,1],25,density=True,color='blue');\n",
    "ax.set(xlabel='Log(Qi)', ylabel='Magnitude'); \n",
    "\n",
    "ax = fig.add_subplot(1, 4, 3)\n",
    "ax.hist(chain[:,2],25,density=True,color='b');\n",
    "ax.set(xlabel='bf', ylabel='Magnitude'); \n",
    "\n",
    "ax = fig.add_subplot(1, 4, 4)\n",
    "ax.hist(chain[:,3],25,density=True,color='b');\n",
    "ax.set(xlabel='t_elf', ylabel='Magnitude'); "
   ]
  },
  {
   "cell_type": "code",
   "execution_count": null,
   "metadata": {},
   "outputs": [],
   "source": []
  },
  {
   "cell_type": "markdown",
   "metadata": {},
   "source": [
    "### Jacobi Theta Function\n",
    "Corelation for Jacobi Theta function is provided below.\n",
    "$$Equation to be added$$"
   ]
  },
  {
   "cell_type": "code",
   "execution_count": null,
   "metadata": {},
   "outputs": [],
   "source": [
    "def Jacobi_theta(t,logQi,chi,eta):\n",
    "    Qt = np.zeros(len(t))\n",
    "    for i in range(len(t)):\n",
    "        Qt[i] = logQi + np.log10(float(mp.jtheta(2,chi,np.exp(-eta*t[i]))))\n",
    "    return Qt"
   ]
  },
  {
   "cell_type": "code",
   "execution_count": null,
   "metadata": {},
   "outputs": [],
   "source": [
    "def post(logQi,chi,eta,sigma,t,data):\n",
    "    like = np.prod(np.exp(-np.power(Jacobi_theta(t,logQi,chi,eta)-data, 2)/sigma**2))\n",
    "    return like # because constant uniform prior"
   ]
  },
  {
   "cell_type": "code",
   "execution_count": null,
   "metadata": {},
   "outputs": [],
   "source": []
  },
  {
   "cell_type": "code",
   "execution_count": null,
   "metadata": {},
   "outputs": [],
   "source": [
    "logQi = data[0]\n",
    "#logQi = 4\n",
    "chi = 0.5\n",
    "eta = 0.5\n",
    "t_fine = np.linspace(0.01,11,119)\n",
    "t = np.linspace(1,12,12)\n",
    "Niter = 10000\n",
    "chain = np.zeros((Niter,3))\n",
    "chain[0,0] = logQi# Initialize the chain with first guess\n",
    "chain[0,1] = chi\n",
    "chain[0,2] = eta"
   ]
  },
  {
   "cell_type": "code",
   "execution_count": null,
   "metadata": {},
   "outputs": [],
   "source": [
    "for ii in np.arange(Niter-1):\n",
    "        if ii%10000 ==0:\n",
    "            print('iteration {}'.format(ii))\n",
    "        logQi    = chain[ii,0] \n",
    "        chi      = chain[ii,1] \n",
    "        eta      = chain[ii,2] \n",
    "        chi_p    = float(chi + np.random.normal(loc=0.0,scale=0.1,size=1))\n",
    "        logQi_p  = float(logQi + np.random.normal(loc=0.0,scale=0.1,size=1))\n",
    "        eta_p     = float(eta + np.random.normal(loc=0.0,scale=0.1,size=1))\n",
    "        \n",
    "        if chi_p < 0 or eta_p<0 or logQi_p > 7 or logQi_p< -2:\n",
    "            chain[ii+1,:] = chain[ii,:]\n",
    "        elif (post(logQi_p,chi_p,eta_p,sigma,t,data) / post(logQi,chi,eta,sigma,t,data)) > np.random.uniform():\n",
    "            chain[ii+1,0] = logQi_p \n",
    "            chain[ii+1,1] = chi_p \n",
    "            chain[ii+1,2] = eta_p \n",
    "        else:\n",
    "            chain[ii+1,:] = chain[ii,:]\n",
    "print('Sampling finished at iteration {}'.format(Niter)) "
   ]
  },
  {
   "cell_type": "code",
   "execution_count": null,
   "metadata": {},
   "outputs": [],
   "source": [
    "plt.rcParams['figure.figsize'] = (12, 2.5)\n",
    "fig = plt.figure()\n",
    "fig.subplots_adjust(hspace=0.4, wspace=.25)\n",
    "\n",
    "ax = fig.add_subplot(1, 3, 1)\n",
    "ax.plot(chain[:,0],color='r',alpha=.5);\n",
    "ax.set(xlabel='Qi_p', ylabel='Magnitude'); \n",
    "\n",
    "ax = fig.add_subplot(1, 3, 2)\n",
    "ax.plot(chain[:,1],color='r',alpha=.5);\n",
    "ax.set(xlabel='chi_p', ylabel='Magnitude'); \n",
    "\n",
    "ax = fig.add_subplot(1, 3, 3)\n",
    "ax.plot(chain[:,2],color='r',alpha=.5);\n",
    "ax.set(xlabel='eta_p', ylabel='Magnitude'); "
   ]
  },
  {
   "cell_type": "code",
   "execution_count": null,
   "metadata": {
    "scrolled": false
   },
   "outputs": [],
   "source": [
    "chain = chain[1000:]#burnin\n",
    "#np.size(chain[:,2])"
   ]
  },
  {
   "cell_type": "code",
   "execution_count": null,
   "metadata": {},
   "outputs": [],
   "source": [
    "logQi_t=round(np.mean(chain[:,0]),3)\n",
    "chi=round(np.mean(chain[:,1]),3)\n",
    "eta=round(np.mean(chain[:,2]),3)\n",
    "print('Mean of D     ={}'.format(logQi_t))\n",
    "print('Mean of logQi ={}'.format(chi))\n",
    "print('Mean of b     ={}'.format(eta))"
   ]
  },
  {
   "cell_type": "code",
   "execution_count": null,
   "metadata": {},
   "outputs": [],
   "source": [
    "plt.rcParams['figure.figsize'] = (8, 4)\n",
    "y_theta =  Jacobi_theta(t,logQi_t,chi,eta)\n",
    "y_theta_test =  Jacobi_theta(tt_test,logQi_t,chi,eta)\n",
    "plt.plot(y_theta,'b-')\n",
    "plt.plot(data,'ro',fillstyle='none',**marker_style)\n",
    "aa.set(xlabel='months', ylabel='Oil Production'); \n"
   ]
  },
  {
   "cell_type": "markdown",
   "metadata": {},
   "source": []
  },
  {
   "cell_type": "code",
   "execution_count": null,
   "metadata": {},
   "outputs": [],
   "source": [
    "plt.rcParams['figure.figsize'] = (10, 4)\n",
    "\n",
    "chains_to_plot=np.arange(1000)*9\n",
    "fig = plt.figure()\n",
    "aa = fig.add_subplot(1, 2, 1)\n",
    "aa.plot(data,'ro',fillstyle='none',**marker_style)\n",
    "kk=0\n",
    "qq=np.zeros([len(chains_to_plot),len(t)])\n",
    "for ii in chains_to_plot:\n",
    "    qq[kk,:]=Jacobi_theta(t,chain[ii,0],chain[ii,1],chain[ii,2])\n",
    "    aa.plot(qq[kk,:],color='blue',alpha=0.002)\n",
    "    kk+=1\n",
    "    aa.set(ylim=(3.8, 4.4),xlabel='months', ylabel='Oil Production')\n",
    "    \n",
    "qq_p10=np.zeros(len(t))\n",
    "qq_p90=np.zeros(len(t))\n",
    "for tt in np.arange(0,12):\n",
    "    sorted_qq=np.sort(qq[:,tt])\n",
    "    ixL = np.floor(np.size(sorted_qq)*.1).astype(int) ## lower index\n",
    "    ixU = np.floor(np.size(sorted_qq)*.9).astype(int) ## upper index\n",
    "    qq_p10[tt]=sorted_qq[ixL]\n",
    "    qq_p90[tt]=sorted_qq[ixU]\n",
    "aa = fig.add_subplot(1, 2, 2)\n",
    "aa.plot(qq_p10,'ko',fillstyle='none')\n",
    "aa.plot(qq_p90,'ko',fillstyle='none')\n",
    "aa.set(ylim=(3.8, 4.4),xlabel='months', ylabel='P10 and P90');"
   ]
  },
  {
   "cell_type": "code",
   "execution_count": null,
   "metadata": {},
   "outputs": [],
   "source": [
    "plt.rcParams['figure.figsize'] = (13, 2.5)\n",
    "fig = plt.figure()\n",
    "fig.subplots_adjust(hspace=0.4, wspace=.25)\n",
    "\n",
    "ax = fig.add_subplot(1, 3, 1)\n",
    "ax.hist(chain[:,0],25,density=True,color='blue');\n",
    "ax.set(xlabel='LogQi_p', ylabel='Magnitude'); \n",
    "\n",
    "ax = fig.add_subplot(1, 3, 2)\n",
    "ax.hist(chain[:,1],25,density=True,color='blue');\n",
    "ax.set(xlabel='Chi', ylabel='Magnitude'); \n",
    "\n",
    "ax = fig.add_subplot(1, 3, 3)\n",
    "ax.hist(chain[:,2],25,density=True,color='b');\n",
    "ax.set(xlabel='eta', ylabel='Magnitude'); "
   ]
  },
  {
   "cell_type": "markdown",
   "metadata": {},
   "source": [
    "### Model Testing\n",
    "12 months of data was used for fitting. Remaining months of data is used for testing. "
   ]
  },
  {
   "cell_type": "code",
   "execution_count": null,
   "metadata": {},
   "outputs": [],
   "source": []
  },
  {
   "cell_type": "code",
   "execution_count": null,
   "metadata": {},
   "outputs": [],
   "source": []
  },
  {
   "cell_type": "code",
   "execution_count": null,
   "metadata": {},
   "outputs": [],
   "source": []
  },
  {
   "cell_type": "code",
   "execution_count": null,
   "metadata": {},
   "outputs": [],
   "source": []
  },
  {
   "cell_type": "code",
   "execution_count": null,
   "metadata": {},
   "outputs": [],
   "source": []
  },
  {
   "cell_type": "code",
   "execution_count": null,
   "metadata": {},
   "outputs": [],
   "source": []
  },
  {
   "cell_type": "code",
   "execution_count": null,
   "metadata": {},
   "outputs": [],
   "source": []
  },
  {
   "cell_type": "code",
   "execution_count": null,
   "metadata": {},
   "outputs": [],
   "source": []
  },
  {
   "cell_type": "code",
   "execution_count": null,
   "metadata": {},
   "outputs": [],
   "source": []
  },
  {
   "cell_type": "code",
   "execution_count": null,
   "metadata": {},
   "outputs": [],
   "source": []
  },
  {
   "cell_type": "code",
   "execution_count": null,
   "metadata": {},
   "outputs": [],
   "source": []
  },
  {
   "cell_type": "markdown",
   "metadata": {},
   "source": [
    "### Validation\n",
    "Curve parameters are fitting using Least Square for validation. Usually MCMC is applied where sampling from poterior is possible or closed form corelations are not available. "
   ]
  },
  {
   "cell_type": "code",
   "execution_count": null,
   "metadata": {},
   "outputs": [],
   "source": [
    "Di_bf = 0.5\n",
    "logQi_bf = 4\n",
    "b = 0.5\n",
    "\n",
    "params, params_covariance = optimize.curve_fit(Arps, t, data,\n",
    "                                               p0=[0.22,4.3,2])\n",
    "y_hat = Arps(tt_test,params[0],params[1],params[2])\n",
    "#sigma = np.sqrt(np.sum(np.power(data-y_hat,2))/(len(tt_test)-3))\n",
    "#print('Variance is {}'.format(sigma))"
   ]
  },
  {
   "cell_type": "code",
   "execution_count": null,
   "metadata": {},
   "outputs": [],
   "source": [
    "#testing and RSS\n",
    "plt.rcParams['figure.figsize'] = (8, 4)\n",
    "\n",
    "fig = plt.figure()\n",
    "aa = plt.axes()\n",
    "\n",
    "aa.set(xlabel='months', ylabel='P10 and P90',title='Test and train data');\n",
    "aa.plot(data,'ro',fillstyle='none',**marker_style,label='train data')\n",
    "aa.plot(np.linspace(12,23,12),np.log10(cur[12:24]),'ko',fillstyle='none',markersize=8,label='Test data' )\n",
    "aa.plot(data,'ro',fillstyle='none');\n",
    "aa.plot(y_hat,'k-',label='Least square fit');\n",
    "aa.plot(y_arps_test,'r-.',label='Arps test and train')\n",
    "aa.plot(y_trans_test,'b-.',label='Transient test and train')\n",
    "aa.plot(y_theta_test,'g-.',label='Jacobi test and train')\n",
    "aa.set(xlabel='months', ylabel='Oil Production');\n",
    "aa.legend(loc='upper right');"
   ]
  },
  {
   "cell_type": "code",
   "execution_count": null,
   "metadata": {},
   "outputs": [],
   "source": [
    "datt=np.log10((oil_array[3][:23]))"
   ]
  },
  {
   "cell_type": "code",
   "execution_count": null,
   "metadata": {},
   "outputs": [],
   "source": [
    "rms_y_hat_train=np.mean(np.sqrt((datt[:11]-y_hat[:11])**2))*100\n",
    "print('rms_y_hat_train is {}'.format(rms_y_hat_train))\n",
    "rms_y_hat_test=np.mean(np.sqrt((datt[11:23]-y_hat[11:23])**2))*100\n",
    "print('rms_y_hat_test is {}'.format(rms_y_hat_test))\n",
    "\n",
    "rms_y_arps_train=np.mean(np.sqrt((datt[:11]-y_arps_test[:11])**2))*100\n",
    "print('rms_y_arps_train is {}'.format(rms_y_arps_train))\n",
    "rms_y_arps_test=np.mean(np.sqrt((datt[11:23]-y_arps_test[11:23])**2))*100\n",
    "print('rms_y_arps_test is {}'.format(rms_y_arps_test))\n",
    "\n",
    "rms_y_trans_train=np.mean(np.sqrt((datt[:11]-y_trans_test[:11])**2))*100\n",
    "print('rms_y_trans_train is {}'.format(rms_y_trans_train))\n",
    "rms_y_trans_test=np.mean(np.sqrt((datt[11:23]-y_trans_test[11:23])**2))*100\n",
    "print('rms_y_trans_test is {}'.format(rms_y_trans_test))\n",
    "\n",
    "rms_y_theta_train=np.mean(np.sqrt((datt[:11]-y_theta_test[:11])**2))*100\n",
    "print('rms_y_theta_train is {}'.format(rms_y_theta_train))\n",
    "rms_y_theta_test=np.mean(np.sqrt((datt[11:23]-y_theta_test[11:23])**2))*100\n",
    "print('rms_y_theta_test is {}'.format(rms_y_theta_test))\n",
    "\n"
   ]
  }
 ],
 "metadata": {
  "anaconda-cloud": {},
  "kernelspec": {
   "display_name": "Python 3",
   "language": "python",
   "name": "python3"
  },
  "language_info": {
   "codemirror_mode": {
    "name": "ipython",
    "version": 3
   },
   "file_extension": ".py",
   "mimetype": "text/x-python",
   "name": "python",
   "nbconvert_exporter": "python",
   "pygments_lexer": "ipython3",
   "version": "3.6.5"
  }
 },
 "nbformat": 4,
 "nbformat_minor": 2
}
